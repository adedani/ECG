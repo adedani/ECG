{
 "cells": [
  {
   "cell_type": "code",
   "execution_count": 3,
   "id": "communist-decision",
   "metadata": {},
   "outputs": [],
   "source": [
    "\n",
    "import pandas as pd\n",
    "import numpy as np\n",
    "import matplotlib.pyplot as plt\n",
    "import tensorflow as tf\n",
    "from tensorflow import keras\n",
    "from keras.layers import Input, Dense, Dropout, LSTM, SimpleRNN\n",
    "from keras.models import Model, Sequential\n",
    "from keras.utils import np_utils\n",
    "from tensorflow.keras.layers import *\n",
    "from keras.models import load_model\n"
   ]
  },
  {
   "cell_type": "code",
   "execution_count": 4,
   "id": "looking-sustainability",
   "metadata": {},
   "outputs": [],
   "source": [
    "model = load_model('ECG_mode-mitbih_train.h5')"
   ]
  },
  {
   "cell_type": "code",
   "execution_count": 5,
   "id": "failing-capacity",
   "metadata": {},
   "outputs": [],
   "source": [
    "test_abnormal_csv = r'C:\\Users\\rd\\Downloads\\ptbdb_abnormal.csv\\ptbdb_abnormal.csv'"
   ]
  },
  {
   "cell_type": "code",
   "execution_count": 6,
   "id": "alternate-retail",
   "metadata": {},
   "outputs": [],
   "source": [
    "test_normal_csv = r'C:\\Users\\rd\\Downloads\\ptbdb_normal.csv\\ptbdb_normal.csv'"
   ]
  },
  {
   "cell_type": "code",
   "execution_count": 8,
   "id": "specific-shame",
   "metadata": {},
   "outputs": [],
   "source": [
    "data1 = pd.read_csv(r'C:\\Users\\rd\\Downloads\\ptbdb_abnormal.csv\\ptbdb_abnormal.csv')"
   ]
  },
  {
   "cell_type": "code",
   "execution_count": 100,
   "id": "anonymous-cookie",
   "metadata": {},
   "outputs": [],
   "source": [
    "data2 = pd.read_csv(r'C:\\Users\\rd\\Downloads\\ptbdb_normal.csv\\ptbdb_normal.csv')"
   ]
  },
  {
   "cell_type": "code",
   "execution_count": 9,
   "id": "unique-mumbai",
   "metadata": {},
   "outputs": [
    {
     "name": "stdout",
     "output_type": "stream",
     "text": [
      "<class 'pandas.core.frame.DataFrame'>\n",
      "RangeIndex: 10505 entries, 0 to 10504\n",
      "Columns: 188 entries, 9.322328567504882812e-01 to 1.000000000000000000e+00.1\n",
      "dtypes: float64(188)\n",
      "memory usage: 15.1 MB\n"
     ]
    },
    {
     "data": {
      "text/html": [
       "<div>\n",
       "<style scoped>\n",
       "    .dataframe tbody tr th:only-of-type {\n",
       "        vertical-align: middle;\n",
       "    }\n",
       "\n",
       "    .dataframe tbody tr th {\n",
       "        vertical-align: top;\n",
       "    }\n",
       "\n",
       "    .dataframe thead th {\n",
       "        text-align: right;\n",
       "    }\n",
       "</style>\n",
       "<table border=\"1\" class=\"dataframe\">\n",
       "  <thead>\n",
       "    <tr style=\"text-align: right;\">\n",
       "      <th></th>\n",
       "      <th>9.322328567504882812e-01</th>\n",
       "      <th>8.696785569190979004e-01</th>\n",
       "      <th>8.861859440803527832e-01</th>\n",
       "      <th>9.296264052391052246e-01</th>\n",
       "      <th>9.087749719619750977e-01</th>\n",
       "      <th>9.339704513549804688e-01</th>\n",
       "      <th>8.010425567626953125e-01</th>\n",
       "      <th>7.497828006744384766e-01</th>\n",
       "      <th>6.872285008430480957e-01</th>\n",
       "      <th>6.350998878479003906e-01</th>\n",
       "      <th>...</th>\n",
       "      <th>0.000000000000000000e+00.117</th>\n",
       "      <th>0.000000000000000000e+00.118</th>\n",
       "      <th>0.000000000000000000e+00.119</th>\n",
       "      <th>0.000000000000000000e+00.120</th>\n",
       "      <th>0.000000000000000000e+00.121</th>\n",
       "      <th>0.000000000000000000e+00.122</th>\n",
       "      <th>0.000000000000000000e+00.123</th>\n",
       "      <th>0.000000000000000000e+00.124</th>\n",
       "      <th>0.000000000000000000e+00.125</th>\n",
       "      <th>1.000000000000000000e+00.1</th>\n",
       "    </tr>\n",
       "  </thead>\n",
       "  <tbody>\n",
       "    <tr>\n",
       "      <th>0</th>\n",
       "      <td>1.000000</td>\n",
       "      <td>0.606941</td>\n",
       "      <td>0.384181</td>\n",
       "      <td>0.254237</td>\n",
       "      <td>0.223567</td>\n",
       "      <td>0.276836</td>\n",
       "      <td>0.253430</td>\n",
       "      <td>0.184826</td>\n",
       "      <td>0.153349</td>\n",
       "      <td>0.121872</td>\n",
       "      <td>...</td>\n",
       "      <td>0.0</td>\n",
       "      <td>0.0</td>\n",
       "      <td>0.0</td>\n",
       "      <td>0.0</td>\n",
       "      <td>0.0</td>\n",
       "      <td>0.0</td>\n",
       "      <td>0.0</td>\n",
       "      <td>0.0</td>\n",
       "      <td>0.0</td>\n",
       "      <td>1.0</td>\n",
       "    </tr>\n",
       "    <tr>\n",
       "      <th>1</th>\n",
       "      <td>1.000000</td>\n",
       "      <td>0.951613</td>\n",
       "      <td>0.923963</td>\n",
       "      <td>0.853303</td>\n",
       "      <td>0.791859</td>\n",
       "      <td>0.734255</td>\n",
       "      <td>0.672043</td>\n",
       "      <td>0.685100</td>\n",
       "      <td>0.670507</td>\n",
       "      <td>0.667435</td>\n",
       "      <td>...</td>\n",
       "      <td>0.0</td>\n",
       "      <td>0.0</td>\n",
       "      <td>0.0</td>\n",
       "      <td>0.0</td>\n",
       "      <td>0.0</td>\n",
       "      <td>0.0</td>\n",
       "      <td>0.0</td>\n",
       "      <td>0.0</td>\n",
       "      <td>0.0</td>\n",
       "      <td>1.0</td>\n",
       "    </tr>\n",
       "    <tr>\n",
       "      <th>2</th>\n",
       "      <td>0.977819</td>\n",
       "      <td>0.899261</td>\n",
       "      <td>0.230129</td>\n",
       "      <td>0.032348</td>\n",
       "      <td>0.142329</td>\n",
       "      <td>0.223660</td>\n",
       "      <td>0.328096</td>\n",
       "      <td>0.367837</td>\n",
       "      <td>0.381701</td>\n",
       "      <td>0.389094</td>\n",
       "      <td>...</td>\n",
       "      <td>0.0</td>\n",
       "      <td>0.0</td>\n",
       "      <td>0.0</td>\n",
       "      <td>0.0</td>\n",
       "      <td>0.0</td>\n",
       "      <td>0.0</td>\n",
       "      <td>0.0</td>\n",
       "      <td>0.0</td>\n",
       "      <td>0.0</td>\n",
       "      <td>1.0</td>\n",
       "    </tr>\n",
       "    <tr>\n",
       "      <th>3</th>\n",
       "      <td>0.935618</td>\n",
       "      <td>0.801661</td>\n",
       "      <td>0.805815</td>\n",
       "      <td>1.000000</td>\n",
       "      <td>0.722741</td>\n",
       "      <td>0.480789</td>\n",
       "      <td>0.454829</td>\n",
       "      <td>0.319834</td>\n",
       "      <td>0.266874</td>\n",
       "      <td>0.308411</td>\n",
       "      <td>...</td>\n",
       "      <td>0.0</td>\n",
       "      <td>0.0</td>\n",
       "      <td>0.0</td>\n",
       "      <td>0.0</td>\n",
       "      <td>0.0</td>\n",
       "      <td>0.0</td>\n",
       "      <td>0.0</td>\n",
       "      <td>0.0</td>\n",
       "      <td>0.0</td>\n",
       "      <td>1.0</td>\n",
       "    </tr>\n",
       "    <tr>\n",
       "      <th>4</th>\n",
       "      <td>0.925265</td>\n",
       "      <td>0.433352</td>\n",
       "      <td>0.073620</td>\n",
       "      <td>0.079197</td>\n",
       "      <td>0.136643</td>\n",
       "      <td>0.182934</td>\n",
       "      <td>0.182934</td>\n",
       "      <td>0.182376</td>\n",
       "      <td>0.196877</td>\n",
       "      <td>0.203569</td>\n",
       "      <td>...</td>\n",
       "      <td>0.0</td>\n",
       "      <td>0.0</td>\n",
       "      <td>0.0</td>\n",
       "      <td>0.0</td>\n",
       "      <td>0.0</td>\n",
       "      <td>0.0</td>\n",
       "      <td>0.0</td>\n",
       "      <td>0.0</td>\n",
       "      <td>0.0</td>\n",
       "      <td>1.0</td>\n",
       "    </tr>\n",
       "  </tbody>\n",
       "</table>\n",
       "<p>5 rows × 188 columns</p>\n",
       "</div>"
      ],
      "text/plain": [
       "   9.322328567504882812e-01  8.696785569190979004e-01  \\\n",
       "0                  1.000000                  0.606941   \n",
       "1                  1.000000                  0.951613   \n",
       "2                  0.977819                  0.899261   \n",
       "3                  0.935618                  0.801661   \n",
       "4                  0.925265                  0.433352   \n",
       "\n",
       "   8.861859440803527832e-01  9.296264052391052246e-01  \\\n",
       "0                  0.384181                  0.254237   \n",
       "1                  0.923963                  0.853303   \n",
       "2                  0.230129                  0.032348   \n",
       "3                  0.805815                  1.000000   \n",
       "4                  0.073620                  0.079197   \n",
       "\n",
       "   9.087749719619750977e-01  9.339704513549804688e-01  \\\n",
       "0                  0.223567                  0.276836   \n",
       "1                  0.791859                  0.734255   \n",
       "2                  0.142329                  0.223660   \n",
       "3                  0.722741                  0.480789   \n",
       "4                  0.136643                  0.182934   \n",
       "\n",
       "   8.010425567626953125e-01  7.497828006744384766e-01  \\\n",
       "0                  0.253430                  0.184826   \n",
       "1                  0.672043                  0.685100   \n",
       "2                  0.328096                  0.367837   \n",
       "3                  0.454829                  0.319834   \n",
       "4                  0.182934                  0.182376   \n",
       "\n",
       "   6.872285008430480957e-01  6.350998878479003906e-01  ...  \\\n",
       "0                  0.153349                  0.121872  ...   \n",
       "1                  0.670507                  0.667435  ...   \n",
       "2                  0.381701                  0.389094  ...   \n",
       "3                  0.266874                  0.308411  ...   \n",
       "4                  0.196877                  0.203569  ...   \n",
       "\n",
       "   0.000000000000000000e+00.117  0.000000000000000000e+00.118  \\\n",
       "0                           0.0                           0.0   \n",
       "1                           0.0                           0.0   \n",
       "2                           0.0                           0.0   \n",
       "3                           0.0                           0.0   \n",
       "4                           0.0                           0.0   \n",
       "\n",
       "   0.000000000000000000e+00.119  0.000000000000000000e+00.120  \\\n",
       "0                           0.0                           0.0   \n",
       "1                           0.0                           0.0   \n",
       "2                           0.0                           0.0   \n",
       "3                           0.0                           0.0   \n",
       "4                           0.0                           0.0   \n",
       "\n",
       "   0.000000000000000000e+00.121  0.000000000000000000e+00.122  \\\n",
       "0                           0.0                           0.0   \n",
       "1                           0.0                           0.0   \n",
       "2                           0.0                           0.0   \n",
       "3                           0.0                           0.0   \n",
       "4                           0.0                           0.0   \n",
       "\n",
       "   0.000000000000000000e+00.123  0.000000000000000000e+00.124  \\\n",
       "0                           0.0                           0.0   \n",
       "1                           0.0                           0.0   \n",
       "2                           0.0                           0.0   \n",
       "3                           0.0                           0.0   \n",
       "4                           0.0                           0.0   \n",
       "\n",
       "   0.000000000000000000e+00.125  1.000000000000000000e+00.1  \n",
       "0                           0.0                         1.0  \n",
       "1                           0.0                         1.0  \n",
       "2                           0.0                         1.0  \n",
       "3                           0.0                         1.0  \n",
       "4                           0.0                         1.0  \n",
       "\n",
       "[5 rows x 188 columns]"
      ]
     },
     "execution_count": 9,
     "metadata": {},
     "output_type": "execute_result"
    }
   ],
   "source": [
    "data1.info()\n",
    "data1.head(5)"
   ]
  },
  {
   "cell_type": "code",
   "execution_count": 101,
   "id": "deadly-sweet",
   "metadata": {},
   "outputs": [
    {
     "name": "stdout",
     "output_type": "stream",
     "text": [
      "[[1.         0.6069411  0.38418078 0.25423729 0.2235674  0.27683616\n",
      "  0.25343019 0.18482648 0.15334947 0.12187248 0.12510088 0.1291364\n",
      "  0.13720742 0.13720742 0.13236481 0.12671509 0.15819208 0.15254237\n",
      "  0.13236481 0.16868442 0.15657789 0.18321227 0.19128329 0.20419693\n",
      "  0.23002422 0.24455206 0.2857143  0.30750605 0.32122681 0.32768363\n",
      "  0.3518967  0.37368846 0.39709443 0.36319613 0.34059724 0.30750605\n",
      "  0.2582728  0.19774011 0.19935432 0.17352703 0.14769976 0.13559322\n",
      "  0.13397902 0.10573043 0.12187248 0.13559322 0.10653753 0.14850686\n",
      "  0.13559322 0.13478611 0.15092817 0.16464891 0.09443099 0.10653753\n",
      "  0.12106538 0.14124294 0.12267958 0.13559322 0.1315577  0.15092817\n",
      "  0.11702986 0.13317192 0.10411622 0.13720742 0.11945117 0.11460856\n",
      "  0.0968523  0.09120258 0.1291364  0.10008071 0.08635997 0.11380145\n",
      "  0.04116223 0.09362389 0.08151735 0.07425343 0.08071025 0.07990315\n",
      "  0.07828894 0.05326876 0.07506053 0.07586764 0.08071025 0.10411622\n",
      "  0.08393866 0.07667474 0.11945117 0.11299435 0.07990315 0.11783697\n",
      "  0.09362389 0.11783697 0.08635997 0.13801453 0.09927361 0.08313156\n",
      "  0.06941082 0.07828894 0.05326876 0.0960452  0.14043583 0.11138014\n",
      "  0.1622276  0.12348668 0.13801453 0.0645682  0.08797418 0.06133979\n",
      "  0.03793382 0.03954802 0.07183212 0.04600484 0.04519774 0.\n",
      "  0.01614205 0.06537531 0.15657789 0.22518159 0.46085551 0.95076674\n",
      "  0.6069411  0.33494753 0.22518159 0.21226797 0.24778047 0.21630347\n",
      "  0.11702986 0.08071025 0.10330912 0.06779661 0.13075061 0.08151735\n",
      "  0.07990315 0.06941082 0.11299435 0.11299435 0.13478611 0.13640033\n",
      "  0.15657789 0.13397902 0.1315577  0.16303471 0.19774011 0.22033899\n",
      "  0.20096852 0.25262308 0.         0.         0.         0.\n",
      "  0.         0.         0.         0.         0.         0.\n",
      "  0.         0.         0.         0.         0.         0.\n",
      "  0.         0.         0.         0.         0.         0.\n",
      "  0.         0.         0.         0.         0.         0.\n",
      "  0.         0.         0.         0.         0.         0.\n",
      "  0.         0.         0.         0.         0.         0.\n",
      "  0.         1.        ]\n",
      " [1.         0.95161289 0.92396313 0.8533026  0.79185867 0.73425502\n",
      "  0.67204303 0.68509984 0.67050689 0.66743469 0.68125957 0.61674345\n",
      "  0.62442398 0.61981565 0.59600616 0.62749618 0.63133639 0.61904764\n",
      "  0.61290324 0.6136713  0.6075269  0.58678955 0.56835639 0.54377878\n",
      "  0.52688169 0.55299538 0.57757294 0.59216589 0.57603687 0.57910907\n",
      "  0.57373273 0.58986175 0.54224271 0.51920122 0.51459295 0.52841783\n",
      "  0.4938556  0.48540705 0.46159753 0.47849461 0.48156682 0.44393241\n",
      "  0.48387095 0.48924732 0.50691247 0.5299539  0.53993857 0.56989247\n",
      "  0.53993857 0.55222732 0.59293395 0.56682026 0.55376345 0.55222732\n",
      "  0.5660522  0.57526881 0.59831029 0.56374806 0.59523809 0.56298006\n",
      "  0.55606759 0.50384027 0.51612902 0.4984639  0.52764976 0.52304149\n",
      "  0.51459295 0.53149003 0.5360983  0.53379416 0.55760366 0.53840244\n",
      "  0.53993857 0.56528419 0.63440859 0.57834101 0.44930875 0.57680494\n",
      "  0.85407066 0.47004607 0.         0.13133641 0.40092167 0.58218127\n",
      "  0.58218127 0.57987714 0.54992318 0.58986175 0.59216589 0.58448541\n",
      "  0.58986175 0.         0.         0.         0.         0.\n",
      "  0.         0.         0.         0.         0.         0.\n",
      "  0.         0.         0.         0.         0.         0.\n",
      "  0.         0.         0.         0.         0.         0.\n",
      "  0.         0.         0.         0.         0.         0.\n",
      "  0.         0.         0.         0.         0.         0.\n",
      "  0.         0.         0.         0.         0.         0.\n",
      "  0.         0.         0.         0.         0.         0.\n",
      "  0.         0.         0.         0.         0.         0.\n",
      "  0.         0.         0.         0.         0.         0.\n",
      "  0.         0.         0.         0.         0.         0.\n",
      "  0.         0.         0.         0.         0.         0.\n",
      "  0.         0.         0.         0.         0.         0.\n",
      "  0.         0.         0.         0.         0.         0.\n",
      "  0.         0.         0.         0.         0.         0.\n",
      "  0.         0.         0.         0.         0.         0.\n",
      "  0.         1.        ]\n",
      " [0.97781885 0.89926064 0.23012939 0.0323475  0.14232902 0.22365989\n",
      "  0.32809612 0.36783734 0.38170055 0.38909426 0.35767099 0.37985212\n",
      "  0.37523106 0.39741221 0.38817006 0.37800369 0.39833641 0.41959333\n",
      "  0.42791128 0.40203327 0.37892792 0.40018484 0.40665436 0.42236599\n",
      "  0.40203327 0.38354897 0.39833641 0.39371535 0.4177449  0.38817006\n",
      "  0.36044362 0.4029575  0.39279112 0.41312385 0.37707949 0.32717189\n",
      "  0.34658042 0.33826247 0.35674676 0.31423292 0.27818853 0.31146026\n",
      "  0.3216266  0.33179298 0.31608135 0.29574862 0.31238449 0.32717189\n",
      "  0.32994455 0.31146026 0.27911276 0.31330869 0.3068392  0.31423292\n",
      "  0.28650647 0.24861369 0.27726433 0.29759705 0.31053606 0.26247689\n",
      "  0.24584104 0.28188539 0.29759705 0.3068392  0.2754159  0.23290204\n",
      "  0.25878003 0.2754159  0.29574862 0.28373381 0.2569316  0.30961183\n",
      "  0.3207024  0.32902032 0.3216266  0.28465804 0.35489833 0.39463955\n",
      "  0.41959333 0.43345657 0.46025878 0.47504622 0.47042513 0.46672827\n",
      "  0.37338263 0.36044362 0.34473199 0.30221811 0.31053606 0.28280962\n",
      "  0.2560074  0.26524955 0.27911276 0.29390019 0.26987061 0.23844732\n",
      "  0.2763401  0.42698705 0.46303141 0.64325321 1.         0.4029575\n",
      "  0.         0.         0.         0.         0.         0.\n",
      "  0.         0.         0.         0.         0.         0.\n",
      "  0.         0.         0.         0.         0.         0.\n",
      "  0.         0.         0.         0.         0.         0.\n",
      "  0.         0.         0.         0.         0.         0.\n",
      "  0.         0.         0.         0.         0.         0.\n",
      "  0.         0.         0.         0.         0.         0.\n",
      "  0.         0.         0.         0.         0.         0.\n",
      "  0.         0.         0.         0.         0.         0.\n",
      "  0.         0.         0.         0.         0.         0.\n",
      "  0.         0.         0.         0.         0.         0.\n",
      "  0.         0.         0.         0.         0.         0.\n",
      "  0.         0.         0.         0.         0.         0.\n",
      "  0.         0.         0.         0.         0.         0.\n",
      "  0.         1.        ]\n",
      " [0.93561786 0.80166149 0.80581516 1.         0.72274143 0.48078921\n",
      "  0.45482865 0.31983384 0.26687434 0.30841121 0.28556594 0.34371755\n",
      "  0.28141224 0.28141224 0.28348911 0.28141224 0.31983384 0.31152648\n",
      "  0.28348911 0.27829698 0.27414331 0.31775701 0.26791278 0.27518171\n",
      "  0.28037384 0.25545171 0.31360331 0.26687434 0.24402907 0.19833852\n",
      "  0.19210799 0.19003116 0.1349948  0.08618899 0.07892004 0.03634476\n",
      "  0.02492212 0.         0.04465213 0.02492212 0.06645899 0.0913811\n",
      "  0.07372794 0.1204569  0.14018692 0.13707165 0.17653167 0.14537902\n",
      "  0.14122534 0.13603322 0.10799585 0.13291797 0.1349948  0.12772585\n",
      "  0.13187954 0.11941849 0.12772585 0.08722741 0.1298027  0.\n",
      "  0.         0.         0.         0.         0.         0.\n",
      "  0.         0.         0.         0.         0.         0.\n",
      "  0.         0.         0.         0.         0.         0.\n",
      "  0.         0.         0.         0.         0.         0.\n",
      "  0.         0.         0.         0.         0.         0.\n",
      "  0.         0.         0.         0.         0.         0.\n",
      "  0.         0.         0.         0.         0.         0.\n",
      "  0.         0.         0.         0.         0.         0.\n",
      "  0.         0.         0.         0.         0.         0.\n",
      "  0.         0.         0.         0.         0.         0.\n",
      "  0.         0.         0.         0.         0.         0.\n",
      "  0.         0.         0.         0.         0.         0.\n",
      "  0.         0.         0.         0.         0.         0.\n",
      "  0.         0.         0.         0.         0.         0.\n",
      "  0.         0.         0.         0.         0.         0.\n",
      "  0.         0.         0.         0.         0.         0.\n",
      "  0.         0.         0.         0.         0.         0.\n",
      "  0.         0.         0.         0.         0.         0.\n",
      "  0.         0.         0.         0.         0.         0.\n",
      "  0.         0.         0.         0.         0.         0.\n",
      "  0.         0.         0.         0.         0.         0.\n",
      "  0.         1.        ]\n",
      " [0.92526489 0.43335193 0.07361963 0.07919688 0.1366425  0.18293363\n",
      "  0.18293363 0.18237591 0.19687675 0.20356944 0.21472393 0.2074735\n",
      "  0.2074735  0.23201339 0.23647518 0.25543782 0.2414947  0.24818739\n",
      "  0.25432235 0.27440044 0.28834355 0.29001674 0.29838261 0.31901839\n",
      "  0.32849973 0.34244284 0.33519241 0.32961518 0.32180703 0.31734523\n",
      "  0.3073062  0.28109315 0.26157278 0.25878417 0.25432235 0.25320691\n",
      "  0.23591746 0.2230898  0.23201339 0.2253207  0.2230898  0.21360847\n",
      "  0.20803124 0.21249303 0.21360847 0.21807027 0.20858896 0.21137758\n",
      "  0.21807027 0.22866704 0.22643614 0.2230898  0.22030117 0.21974345\n",
      "  0.22866704 0.23982152 0.26045734 0.27161181 0.29559398 0.29447854\n",
      "  0.30005577 0.31344116 0.29224762 0.25543782 0.27105409 0.27161181\n",
      "  0.22978249 0.20914668 0.19687675 0.17177914 0.17456776 0.16452873\n",
      "  0.1572783  0.16285555 0.1728946  0.1528165  0.06190742 0.\n",
      "  0.11879531 0.54210818 1.         0.66034579 0.20412716 0.01450084\n",
      "  0.09369771 0.14835471 0.15058561 0.15672058 0.17233686 0.18349135\n",
      "  0.19241495 0.1935304  0.17233686 0.19185722 0.19743447 0.20803124\n",
      "  0.         0.         0.         0.         0.         0.\n",
      "  0.         0.         0.         0.         0.         0.\n",
      "  0.         0.         0.         0.         0.         0.\n",
      "  0.         0.         0.         0.         0.         0.\n",
      "  0.         0.         0.         0.         0.         0.\n",
      "  0.         0.         0.         0.         0.         0.\n",
      "  0.         0.         0.         0.         0.         0.\n",
      "  0.         0.         0.         0.         0.         0.\n",
      "  0.         0.         0.         0.         0.         0.\n",
      "  0.         0.         0.         0.         0.         0.\n",
      "  0.         0.         0.         0.         0.         0.\n",
      "  0.         0.         0.         0.         0.         0.\n",
      "  0.         0.         0.         0.         0.         0.\n",
      "  0.         0.         0.         0.         0.         0.\n",
      "  0.         0.         0.         0.         0.         0.\n",
      "  0.         1.        ]]\n"
     ]
    }
   ],
   "source": [
    "heartbeat_1 = data1.head(5)\n",
    "arr1 = heartbeat_1.to_numpy()\n",
    "print (arr1)"
   ]
  },
  {
   "cell_type": "code",
   "execution_count": 102,
   "id": "copyrighted-residence",
   "metadata": {},
   "outputs": [
    {
     "name": "stdout",
     "output_type": "stream",
     "text": [
      "5\n"
     ]
    },
    {
     "data": {
      "text/plain": [
       "<matplotlib.collections.PathCollection at 0x266eaf09cd0>"
      ]
     },
     "execution_count": 102,
     "metadata": {},
     "output_type": "execute_result"
    },
    {
     "data": {
      "image/png": "[encoded data removed]",
      "text/plain": [
       "<Figure size 2000x500 with 1 Axes>"
      ]
     },
     "metadata": {
      "needs_background": "light"
     },
     "output_type": "display_data"
    }
   ],
   "source": [
    "import matplotlib.pyplot as plt\n",
    "y = len(arr1)\n",
    "print(y)\n",
    "y = y*188\n",
    "plt.rcParams.update({'figure.figsize':(20,5), 'figure.dpi':100})\n",
    "plt.scatter(range(y), arr1)"
   ]
  },
  {
   "cell_type": "code",
   "execution_count": 160,
   "id": "explicit-somalia",
   "metadata": {},
   "outputs": [
    {
     "data": {
      "text/plain": [
       "940"
      ]
     },
     "execution_count": 160,
     "metadata": {},
     "output_type": "execute_result"
    }
   ],
   "source": [
    "arr1.size"
   ]
  },
  {
   "cell_type": "code",
   "execution_count": 186,
   "id": "alive-english",
   "metadata": {},
   "outputs": [
    {
     "name": "stdout",
     "output_type": "stream",
     "text": [
      "<class 'pandas.core.frame.DataFrame'>\n",
      "RangeIndex: 4997 entries, 0 to 4996\n",
      "Columns: 141 entries, -0.11252183 to 1\n",
      "dtypes: float64(140), int64(1)\n",
      "memory usage: 5.4 MB\n"
     ]
    }
   ],
   "source": [
    "data_df = pd.read_csv(\"ecg.csv\")\n",
    "data_df.info()\n",
    "arr3 = data_df.to_numpy()"
   ]
  },
  {
   "cell_type": "code",
   "execution_count": 185,
   "id": "given-tourism",
   "metadata": {},
   "outputs": [
    {
     "data": {
      "text/plain": [
       "704577"
      ]
     },
     "execution_count": 185,
     "metadata": {},
     "output_type": "execute_result"
    }
   ],
   "source": [
    "arr3.size"
   ]
  },
  {
   "cell_type": "code",
   "execution_count": 188,
   "id": "incorporate-prospect",
   "metadata": {},
   "outputs": [],
   "source": [
    "res = model.predict([data1])"
   ]
  },
  {
   "cell_type": "code",
   "execution_count": 191,
   "id": "nearby-compromise",
   "metadata": {},
   "outputs": [
    {
     "name": "stdout",
     "output_type": "stream",
     "text": [
      "[[9.9997473e-01 2.5273843e-05 8.5215618e-13 4.4228486e-14 2.5926463e-17]\n",
      " [3.1482175e-03 1.7042071e-11 9.9531674e-01 1.0881493e-07 1.5349692e-03]\n",
      " [9.9612373e-01 3.8762414e-03 6.9814665e-09 1.7024000e-08 3.7138231e-13]]\n"
     ]
    }
   ],
   "source": [
    "print(res[:3])"
   ]
  },
  {
   "cell_type": "code",
   "execution_count": null,
   "id": "civilian-costume",
   "metadata": {},
   "outputs": [],
   "source": []
  }
 ],
 "metadata": {
  "kernelspec": {
   "display_name": "Python 3",
   "language": "python",
   "name": "python3"
  },
  "language_info": {
   "codemirror_mode": {
    "name": "ipython",
    "version": 3
   },
   "file_extension": ".py",
   "mimetype": "text/x-python",
   "name": "python",
   "nbconvert_exporter": "python",
   "pygments_lexer": "ipython3",
   "version": "3.8.8"
  }
 },
 "nbformat": 4,
 "nbformat_minor": 5
}
